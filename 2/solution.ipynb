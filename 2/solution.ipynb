{
 "cells": [
  {
   "cell_type": "code",
   "execution_count": 26,
   "metadata": {},
   "outputs": [],
   "source": [
    "import re\n",
    "\n",
    "path = 'example.txt'\n",
    "path = 'input.txt'\n",
    "\n",
    "with open(path, 'r') as f:\n",
    "    text = f.readlines()"
   ]
  },
  {
   "cell_type": "code",
   "execution_count": 27,
   "metadata": {},
   "outputs": [
    {
     "data": {
      "text/plain": [
       "2617"
      ]
     },
     "execution_count": 27,
     "metadata": {},
     "output_type": "execute_result"
    }
   ],
   "source": [
    "pattern_prefix = r'Game \\d*:'\n",
    "pattern_colors = r'(\\d*)\\s(red|blue|green)'\n",
    "\n",
    "max_colors = {'red': 12,\n",
    "              'green': 13,\n",
    "              'blue': 14}\n",
    "\n",
    "\n",
    "valid_games_counter = 0\n",
    "\n",
    "for i, line in enumerate(text):\n",
    "    line = re.sub(pattern_prefix, '', line)\n",
    "    # print(line)\n",
    "    sets = line.split(';')\n",
    "    valid_game = True\n",
    "    for s in sets:\n",
    "        # print(s)\n",
    "        matches = re.finditer(pattern_colors, s)\n",
    "        for m in matches:\n",
    "            groups = m.groups()\n",
    "            quantity = int(groups[0])\n",
    "            color = groups[1]\n",
    "            if quantity > max_colors[color]:\n",
    "                valid_game = False\n",
    "                break\n",
    "            # else:\n",
    "                # print(color, quantity, max_colors[color])\n",
    "                # valid_game = True\n",
    "\n",
    "    if valid_game:\n",
    "        # print(i+1)\n",
    "        valid_games_counter += i+1\n",
    "\n",
    "\n",
    "valid_games_counter"
   ]
  },
  {
   "cell_type": "code",
   "execution_count": null,
   "metadata": {},
   "outputs": [],
   "source": [
    "import re\n",
    "\n",
    "path = 'example.txt'\n",
    "path = 'input.txt'\n",
    "\n",
    "with open(path, 'r') as f:\n",
    "    text = f.readlines()"
   ]
  },
  {
   "cell_type": "code",
   "execution_count": null,
   "metadata": {},
   "outputs": [],
   "source": [
    "pattern_prefix = r'Game \\d*:'\n",
    "pattern_colors = r'(\\d*)\\s(red|blue|green)'\n",
    "\n",
    "max_colors = {'red': 0,\n",
    "              'green': 0,\n",
    "              'blue': 0}\n",
    "\n",
    "\n",
    "valid_games_counter = 0\n",
    "\n",
    "for i, line in enumerate(text):\n",
    "    line = re.sub(pattern_prefix, '', line)\n",
    "    # print(line)\n",
    "    sets = line.split(';')\n",
    "    max_colors = {'red': 0,\n",
    "                      'green': 0,\n",
    "                      'blue': 0}\n",
    "    for s in sets:\n",
    "\n",
    "        # print(s)\n",
    "        matches = re.finditer(pattern_colors, s)\n",
    "        for m in matches:\n",
    "            groups = m.groups()\n",
    "            quantity = int(groups[0])\n",
    "            color = groups[1]\n",
    "            max_colors[color] = max(max_colors[color], quantity)\n",
    "            # else:\n",
    "                # print(color, quantity, max_colors[color])\n",
    "                # valid_game = True\n",
    "\n",
    "    if valid_game:\n",
    "        # print(i+1)\n",
    "        valid_games_counter += i+1\n",
    "\n",
    "\n",
    "valid_games_counter"
   ]
  }
 ],
 "metadata": {
  "kernelspec": {
   "display_name": "bm25",
   "language": "python",
   "name": "python3"
  },
  "language_info": {
   "codemirror_mode": {
    "name": "ipython",
    "version": 3
   },
   "file_extension": ".py",
   "mimetype": "text/x-python",
   "name": "python",
   "nbconvert_exporter": "python",
   "pygments_lexer": "ipython3",
   "version": "3.9.12"
  }
 },
 "nbformat": 4,
 "nbformat_minor": 2
}
