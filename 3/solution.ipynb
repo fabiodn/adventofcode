{
 "cells": [
  {
   "cell_type": "code",
   "execution_count": 66,
   "metadata": {},
   "outputs": [],
   "source": [
    "'''\n",
    "467..114..  467->0,2 ; 114-> 5,7 --------- []\n",
    "...*......  3\n",
    "..35..633.  35 -> , 633-> ---- []\n",
    "......#...  8\n",
    "617*......\n",
    ".....+.58.\n",
    "..592.....\n",
    "......755.\n",
    "...$.*....\n",
    ".664.598..\n",
    "'''"
   ]
  },
  {
   "cell_type": "code",
   "execution_count": 1,
   "metadata": {},
   "outputs": [
    {
     "name": "stdout",
     "output_type": "stream",
     "text": [
      "509115\n"
     ]
    }
   ],
   "source": [
    "import re\n",
    "\n",
    "def read_input(file_path):\n",
    "    with open(file_path, 'r') as file:\n",
    "        return file.readlines()\n",
    "\n",
    "def find_matches(pattern, line):\n",
    "    return [match for match in re.finditer(pattern, line)]\n",
    "\n",
    "def is_adjacent(number_match, symbol_matches):\n",
    "    for s_match in symbol_matches:\n",
    "        if s_match.start() >= number_match.start() - 1 and s_match.end() <= number_match.end() + 1:\n",
    "            return True\n",
    "    return False\n",
    "\n",
    "def calculate_total_counter(numbers, symbols):\n",
    "    total_counter = 0\n",
    "    for i, number_matches in enumerate(numbers):\n",
    "        for n_match in number_matches:\n",
    "            adjacent = False\n",
    "            \n",
    "            # line before\n",
    "            if i > 1:\n",
    "                adjacent = is_adjacent(n_match, symbols[i - 1])\n",
    "                \n",
    "            # same line\n",
    "            if not adjacent:\n",
    "                adjacent = is_adjacent(n_match, symbols[i])\n",
    "                \n",
    "             # line after\n",
    "            if not adjacent and i < len(numbers) - 1:\n",
    "                adjacent = is_adjacent(n_match, symbols[i + 1])\n",
    "\n",
    "            if adjacent:\n",
    "                total_counter += int(n_match.group(0))\n",
    "\n",
    "    return total_counter\n",
    "\n",
    "def main():\n",
    "    file_path = 'input.txt'\n",
    "    text_lines = read_input(file_path)\n",
    "\n",
    "    number_pattern = r'\\d+'\n",
    "    symbol_pattern = r'[^\\.\\d\\n]'\n",
    "\n",
    "    numbers = [find_matches(number_pattern, line) for line in text_lines]\n",
    "    symbols = [find_matches(symbol_pattern, line) for line in text_lines]\n",
    "\n",
    "    total_counter = calculate_total_counter(numbers, symbols)\n",
    "\n",
    "    print(total_counter)\n",
    "\n",
    "main()"
   ]
  },
  {
   "cell_type": "code",
   "execution_count": 3,
   "metadata": {},
   "outputs": [
    {
     "name": "stdout",
     "output_type": "stream",
     "text": [
      "75220503\n"
     ]
    }
   ],
   "source": [
    "import re\n",
    "\n",
    "def find_matches(pattern, line):\n",
    "    return [match for match in re.finditer(pattern, line)]\n",
    "\n",
    "def find_adjacent_numbers(symbol_match, numbers_matches):\n",
    "    return [n_match.group(0) for n_match in numbers_matches if\n",
    "            symbol_match.start() >= n_match.start() - 1 and symbol_match.start() <= n_match.end()]\n",
    "\n",
    "def calculate_gear_ratios(symbols, numbers):\n",
    "    total_counter = 0\n",
    "    for i, symbol_matches in enumerate(symbols):\n",
    "        for s_match in symbol_matches:\n",
    "            gear = []\n",
    "            # line before\n",
    "            if i > 0:\n",
    "                gear.extend(find_adjacent_numbers(s_match, numbers[i - 1]))\n",
    "            # same line\n",
    "            gear.extend(find_adjacent_numbers(s_match, numbers[i]))\n",
    "            # line after\n",
    "            if i < len(symbols) - 1:\n",
    "                gear.extend(find_adjacent_numbers(s_match, numbers[i + 1]))\n",
    "\n",
    "            if len(gear) == 2:\n",
    "                total_counter += int(gear[0]) * int(gear[1])\n",
    "\n",
    "    return total_counter\n",
    "\n",
    "def main():\n",
    "    file_path = 'input.txt'\n",
    "    text_lines = [line.strip() for line in open(file_path, 'r')]\n",
    "\n",
    "    number_pattern = r'\\d+'\n",
    "    symbol_pattern = r'\\*'\n",
    "\n",
    "    numbers = [find_matches(number_pattern, line) for line in text_lines]\n",
    "    symbols = [find_matches(symbol_pattern, line) for line in text_lines]\n",
    "\n",
    "    total_counter = calculate_gear_ratios(symbols, numbers)\n",
    "\n",
    "    print(total_counter)\n",
    "\n",
    "main()\n"
   ]
  }
 ],
 "metadata": {
  "kernelspec": {
   "display_name": "Python 3",
   "language": "python",
   "name": "python3"
  },
  "language_info": {
   "codemirror_mode": {
    "name": "ipython",
    "version": 3
   },
   "file_extension": ".py",
   "mimetype": "text/x-python",
   "name": "python",
   "nbconvert_exporter": "python",
   "pygments_lexer": "ipython3",
   "version": "3.10.11"
  }
 },
 "nbformat": 4,
 "nbformat_minor": 2
}
