{
 "cells": [
  {
   "cell_type": "code",
   "execution_count": 1,
   "metadata": {},
   "outputs": [
    {
     "data": {
      "text/plain": [
       "'\\nCard 1: 41 48 83 86 17 | 83 86  6 31 17  9 48 53\\nCard 2: 13 32 20 16 61 | 61 30 68 82 17 32 24 19\\nCard 3:  1 21 53 59 44 | 69 82 63 72 16 21 14  1\\nCard 4: 41 92 73 84 69 | 59 84 76 51 58  5 54 83\\nCard 5: 87 83 26 28 32 | 88 30 70 12 93 22 82 36\\nCard 6: 31 18 13 56 72 | 74 77 10 23 35 67 36 11\\n'"
      ]
     },
     "execution_count": 1,
     "metadata": {},
     "output_type": "execute_result"
    }
   ],
   "source": [
    "# path = 'example.txt'\n",
    "path = 'input.txt'\n",
    "\n",
    "with open(path, 'r') as f:\n",
    "    lines = f.readlines()\n",
    "\n",
    "'''\n",
    "Card 1: 41 48 83 86 17 | 83 86  6 31 17  9 48 53\n",
    "Card 2: 13 32 20 16 61 | 61 30 68 82 17 32 24 19\n",
    "Card 3:  1 21 53 59 44 | 69 82 63 72 16 21 14  1\n",
    "Card 4: 41 92 73 84 69 | 59 84 76 51 58  5 54 83\n",
    "Card 5: 87 83 26 28 32 | 88 30 70 12 93 22 82 36\n",
    "Card 6: 31 18 13 56 72 | 74 77 10 23 35 67 36 11\n",
    "'''"
   ]
  },
  {
   "cell_type": "code",
   "execution_count": 3,
   "metadata": {},
   "outputs": [
    {
     "data": {
      "text/plain": [
       "32609"
      ]
     },
     "execution_count": 3,
     "metadata": {},
     "output_type": "execute_result"
    }
   ],
   "source": [
    "# PART 1\n",
    "import re\n",
    "\n",
    "def count_winning_numbers(card_numbers):\n",
    "    # Match numbers that occur twice; the number of matches is the number of winning numbers\n",
    "    pattern = r'\\b(\\d+)\\b(?=.*\\b\\1\\b)'\n",
    "    matches = re.findall(pattern, card_numbers)\n",
    "    \n",
    "    return len(matches)\n",
    "\n",
    "\n",
    "def calculate_card_points(line):\n",
    "    # Discard \"Card n:\", keep card numbers\n",
    "    _, card_numbers = line.split(':')\n",
    "    \n",
    "    winning_numbers_count = count_winning_numbers(card_numbers)\n",
    "    \n",
    "    # Calculate points based on winning numbers count\n",
    "    points = 2**(winning_numbers_count-1) if winning_numbers_count else 0\n",
    "    \n",
    "    return points\n",
    "\n",
    "\n",
    "def calculate_total_points(lines):\n",
    "    total_points = sum([calculate_card_points(line) for line in lines])\n",
    "    return total_points\n",
    "    \n",
    "calculate_total_points(lines)"
   ]
  },
  {
   "cell_type": "code",
   "execution_count": 4,
   "metadata": {},
   "outputs": [
    {
     "data": {
      "text/plain": [
       "14624680"
      ]
     },
     "execution_count": 4,
     "metadata": {},
     "output_type": "execute_result"
    }
   ],
   "source": [
    "# PART 2\n",
    "import re\n",
    "\n",
    "def count_winning_numbers(card_numbers):\n",
    "    # Match numbers that occur twice; the number of matches is the number of winning numbers\n",
    "    pattern = r'\\b(\\d+)\\b(?=.*\\b\\1\\b)'\n",
    "    matches = re.findall(pattern, card_numbers)\n",
    "    \n",
    "    return len(matches)\n",
    "\n",
    "def update_subsequent_cards(cards_copies, i, winning_numbers_count):\n",
    "    for n in range(winning_numbers_count):\n",
    "        cards_copies[i + n + 1] += cards_copies[i]\n",
    "    \n",
    "def count_total_copies(lines):\n",
    "    total_cards = len(lines)\n",
    "    cards_copies = [1] * total_cards\n",
    "    \n",
    "    for i, line in enumerate(lines):\n",
    "        # Discard \"Card n:\", keep card numbers\n",
    "        _, card_numbers = line.split(':')\n",
    "        winning_numbers_count = count_winning_numbers(card_numbers)        \n",
    "        \n",
    "        update_subsequent_cards(cards_copies, i, winning_numbers_count)\n",
    "\n",
    "    return sum(cards_copies)\n",
    "    \n",
    "        \n",
    "count_total_copies(lines)"
   ]
  }
 ],
 "metadata": {
  "kernelspec": {
   "display_name": "bm25",
   "language": "python",
   "name": "python3"
  },
  "language_info": {
   "codemirror_mode": {
    "name": "ipython",
    "version": 3
   },
   "file_extension": ".py",
   "mimetype": "text/x-python",
   "name": "python",
   "nbconvert_exporter": "python",
   "pygments_lexer": "ipython3",
   "version": "3.9.12"
  }
 },
 "nbformat": 4,
 "nbformat_minor": 2
}
