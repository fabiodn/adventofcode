{
 "cells": [
  {
   "cell_type": "code",
   "execution_count": 71,
   "metadata": {},
   "outputs": [
    {
     "data": {
      "text/plain": [
       "'LRRRLRRLRRLRLRRLRRRLLRRLLRRLRRRLRLRRLLRRLRRLRLRRRLRRRLRLRLRLRRRLRRLRRRLRLRRLLLRLRLLRLRRRLRLRRRLRRRLLLRRLRLRRLRRRLLRRLRRLRRLRRRLRRLRRLRRLRLRRLRLRLRLRLRLRRRLRRLRLLLRRRLRLRRRLRRRLLRRLRRRLRRLRRRLRRRLRLRRRLRRLRLLRRLLRLRRLRLRLLRRLLRRLLRRLRRLRRRLRLRRLRLRRRLRRRLLRLRRLLLLRRRLLRLLLRRLRRRLRRRLRRRLRLRRRLRRRLRRRLRLRRRR\\n\\nFJT = (XDJ, LQV)\\nVLP = (BJP, TTH)\\nNVD = (KTC, TGT)\\nVCC = (SRV, GMR)\\nPNM = (SFQ, XMX)\\nDPD = (HHJ, MGG)\\nGQA = (BGC, BHR)\\nVQH = (RCV, VJC)\\nVHR = (GLQ, GJF)\\nSQC = (CDT, HKV)\\nGSV = (PKP, RMP)\\nJLZ = (KMM, QCG)\\nTHG = (PTL, SXP)\\nFTC = (VFH, TPL)\\nJTT = (VQC, QVC)\\nKQC = (RCR, TRT)\\nRGP = (DPG, MFQ)\\nTDP = (XJV, QCR)\\nPCC = (LRD, XXR)\\nMRQ = (PPS, KHB)\\nTTX = (VSJ, XPN)\\nJNR = (DFB, NSV)\\nKJK = (PCR, LMT)\\nJLB = (GXB, HND)\\nBJN = (KNX, NXQ)\\nVDV = (XNB, DTB)\\nTXB = (DXL, PCN)\\nMJS = (NQK, PDV)\\nRPV = (BNF, QNS)\\nCLM = (KLR, QCT)\\nSXP = (JMV, MGN)\\nHQG = (LNV, RTX)\\nRQJ = (HQG, TSJ)\\nLGD = (PNM, RHG)\\nXPN = (LGC, CTR)\\nJJB = (CDH, TXV)\\nHVZ = (QRH, VHK)\\nLSV = (FRK, LXV)\\nRFH = (KMJ, DKH)\\nFFV = (DJK, MCR)\\nBMN = (HLV, NMQ)\\nRBC = (FVH, CXN)\\nPVK = (HKJ, LGD)\\nBHK = (MLL, JCP)\\nVJF = (DCM, SGJ)\\nXVB = (QBS, MNF)\\nNRT = (GLL, GLL)\\nNXL = (CRV, PQB)\\nTVC = (RKR, PVD)\\nLDX = (TKH, BHK)\\nJPG = (DMK, HHQ)\\nPHV = (JJS, CKP)\\nNVQ = (RRC, SHR)\\nKJH = (JKQ, CCR)\\nLHV = (MVL, LNK)\\nBBK = (NMH, SQL)\\nNXP = (PCH, CNJ)\\nSTL = (LMR, HRB)\\nCFK = (NGC, KFK)\\nFGC = (VJM, JPG)\\nSFQ = (CXR, LCT)\\nKDN = (JPS, QBJ)\\nPCR = (DSB, TLL)\\nJKQ = (MRR, JFS)\\nFNS = (XNB, DTB)\\nBBP = (LTR, VLP)\\nMGN = (RKL, RMN)\\nHCM = (XPC, PHB)\\nRNJ = (QVC, VQC)\\nHVT = (FTN, JJQ)\\nNGP = (JSJ, TKR)\\nXBL = (BTH, JXS)\\nAAA = (GFB, FBF)\\nHXN = (SMM, RVJ)\\nCMF = (FJT, QMT)\\nXLR = (HBL, RXC)\\nNNK = (RCR, TRT)\\nHNM = (HKN, KBP)\\nCNN = (JCX, PXH)\\nVSF = (QFN, HTG)\\nMQM = (SSQ, QTS)\\nNBM = (TPD, CVS)\\nLJB = (SMK, KJK)\\nVTD = (NGG, NGG)\\nBCH = (FXM, BPK)\\nVJM = (DMK, HHQ)\\nTVX = (HJP, XSP)\\nTFD = (TSD, TSD)\\nXDR = (XPS, RDX)\\nXPD = (VBR, JLN)\\nTSJ = (RTX, LNV)\\nNQK = (FVP, NXF)\\nDCC = (QJL, QFQ)\\nHKB = (XBH, RXS)\\nMCR = (RTL, LSC)\\nGFB = (PND, KRM)\\nCVM = (JSH, CMP)\\nQXK = (VTD, XTD)\\nQFG = (TVX, TCJ)\\nGQH = (JLB, SFN)\\nNPB = (PRQ, MLJ)\\nLRD = (VDV, FNS)\\nQBJ = (FTV, QNM)\\nTBB = (FKD, LKP)\\nHBL = (VMF, DQJ)\\nHVC = (PQR, BXX)\\nTQC = (LNK, MVL)\\nKFQ = (PBK, KPD)\\nTRH = (SQD, CHT)\\nTMT = (RSP, SLD)\\nJBM = (XJV, QCR)\\nBXX = (NDN, SHC)\\nJFM = (GVJ, HLH)\\nPPP = (HGX, JJT)\\nDXG = (NPK, SBC)\\nKDQ = (QKD, XRD)\\nCDH = (XGJ, RGP)\\nXMX = (CXR, LCT)\\nPQN = (CKP, JJS)\\nVDX = (FRP, KJZ)\\nFRK = (SBT, HCQ)\\nTDG = (QTM, SVX)\\nJSD = (HHN, TJM)\\nJJS = (TTX, MSV)\\nZZZ = (FBF, GFB)\\nXSP = (JXG, CCD)\\nGXX = (RQX, NGP)\\nVTG = (QHF, PPP)\\nBGC = (RQR, PPG)\\nMQV = (BDT, RMH)\\nDKH = (PDS, FGF)\\nXCA = (VHR, HCS)\\nGTC = (JSM, PTT)\\nJVV = (LFG, MQV)\\nTPP = (RBJ, ZZZ)\\nSRV = (TFV, LBT)\\nRPC = (FSM, FQF)\\nCDD = (SQX, QKV)\\nQHQ = (PVD, RKR)\\nQCR = (FXJ, LLB)\\nVDJ = (NMD, BVB)\\nVLF = (XHR, JRG)\\nPDS = (NPB, QHS)\\nTVM = (DQH, XPD)\\nSJF = (DXL, PCN)\\nTPD = (VLG, FGC)\\nSNM = (MHV, FSN)\\nSGJ = (CDV, BCH)\\nTPL = (NRT, FNP)\\nNBF = (DQH, XPD)\\nGGP = (QND, CHR)\\nLMR = (KFM, LMM)\\nHHQ = (KHG, VCF)\\nXVN = (TGH, FQM)\\nQTS = (DRH, XDN)\\nJPM = (JHQ, FGM)\\nLSB = (HKB, SPH)\\nNMQ = (BPF, VCP)\\nQKC = (SKL, RMD)\\nSXB = (LFG, MQV)\\nMRM = (SFR, NRD)\\nGSG = (LFR, TST)\\nMRR = (CFK, FXG)\\nRFS = (DDK, LML)\\nPTL = (MGN, JMV)\\nNXF = (PPK, MLT)\\nKSN = (MCK, HGN)\\nSFR = (NSN, DDP)\\nRHB = (KDQ, HQD)\\nSBM = (LGD, HKJ)\\nBCN = (BJH, DQC)\\nKTJ = (QBQ, PPC)\\nNMD = (RHB, GCD)\\nDFB = (PNP, HVJ)\\nGHG = (TGH, FQM)\\nLGC = (RQQ, KFQ)\\nNTS = (KJK, SMK)\\nBFM = (JLB, SFN)\\nHHK = (NFR, XDR)\\nPCN = (KKC, TQG)\\nXJV = (LLB, FXJ)\\nPPC = (NNK, KQC)\\nDTB = (RFH, FKB)\\nQNM = (RQJ, RXM)\\nHGN = (FJJ, HKQ)\\nPHJ = (HRH, LCF)\\nCMR = (VQK, TBM)\\nSXL = (TVV, TCP)\\nHPT = (XLR, HGK)\\nXVX = (PPP, QHF)\\nXRC = (PCC, SFT)\\nQXB = (HRR, SHN)\\nJMV = (RKL, RMN)\\nRTN = (MRN, STL)\\nJDD = (LDQ, QPB)\\nJTB = (HHJ, MGG)\\nMLM = (TVM, NBF)\\nBJP = (XTT, XTT)\\nHQN = (TXT, NJF)\\nXGV = (KHB, PPS)\\nXDB = (BHQ, XXC)\\nQVC = (GNB, CSV)\\nSFT = (LRD, XXR)\\nMXB = (MCR, DJK)\\nNQV = (CVM, PBV)\\nJQM = (TCP, TVV)\\nLFG = (BDT, RMH)\\nSMK = (LMT, PCR)\\nBXJ = (QMR, TVP)\\nLDD = (RQX, NGP)\\nRDX = (DFD, DSX)\\nKNQ = (BNF, QNS)\\nJLN = (MBF, XLS)\\nQFM = (CDD, GCT)\\nRND = (RTR, QPQ)\\nFLC = (BJN, NBR)\\nRRC = (CPK, DDC)\\nRVD = (DCC, NSC)\\nKQF = (TDG, HPN)\\nMPN = (MDC, FDF)\\nHKQ = (XDM, VCC)\\nPPK = (BTF, NQV)\\nQHS = (PRQ, MLJ)\\nHGK = (RXC, HBL)\\nDNX = (GMG, TBB)\\nHVJ = (HCD, DXG)\\nNHX = (RCF, RQF)\\nKHB = (PQN, PHV)\\nLNV = (VJF, BKH)\\nQMT = (XDJ, LQV)\\nVJK = (TXB, SJF)\\nPJH = (HLH, GVJ)\\nQNS = (MPN, BDP)\\nTVP = (RLR, MQN)\\nGBR = (HGG, TJG)\\nBRM = (LXV, FRK)\\nJFS = (FXG, CFK)\\nTKR = (TFD, CDS)\\nNBR = (KNX, NXQ)\\nKMJ = (PDS, FGF)\\nLKK = (NBR, BJN)\\nKPD = (MBK, TTT)\\nFVH = (FLL, XPM)\\nDSF = (JNP, HCM)\\nFCD = (HTC, XSK)\\nRNP = (MHH, HQS)\\nXBB = (SQB, SNM)\\nSDS = (GNX, BBP)\\nKBP = (XXT, KXJ)\\nFDF = (GSV, KGV)\\nCKP = (MSV, TTX)\\nMST = (QND, CHR)\\nRMH = (KNP, SQC)\\nJJQ = (MFN, VKS)\\nBXF = (RQT, JGF)\\nTCP = (JBV, QKC)\\nLTR = (BJP, BJP)\\nMNT = (XLR, HGK)\\nNXX = (NMF, MRM)\\nKFF = (TDG, HPN)\\nNCC = (THG, MVT)\\nKGV = (PKP, RMP)\\nHVH = (NJG, BND)\\nRKL = (STN, GTF)\\nCTH = (TST, LFR)\\nFQF = (NNC, XBB)\\nLFR = (GTM, FCD)\\nSLD = (HNM, MQQ)\\nTTJ = (FFR, FFR)\\nDQJ = (MNJ, LSB)\\nRQF = (XRC, FNX)\\nXHR = (GGJ, KTJ)\\nHJP = (CCD, JXG)\\nCTC = (QVL, KSN)\\nGQM = (TJM, HHN)\\nTGT = (MCP, MDH)\\nPBK = (MBK, TTT)\\nJGF = (MQX, BXJ)\\nFLL = (NVD, FKG)\\nTGH = (VVC, LVF)\\nMQN = (NKD, JNC)\\nSVX = (XCM, PPX)\\nMCP = (HVH, SVN)\\nFSN = (NXL, SGG)\\nTQG = (GXX, LDD)\\nHBA = (QCG, KMM)\\nDMK = (VCF, KHG)\\nQKD = (FXF, QFG)\\nMDH = (SVN, HVH)\\nQTM = (XCM, PPX)\\nPMP = (HGG, TJG)\\nJXS = (TSM, LDX)\\nLDQ = (NXT, DDV)\\nKNX = (BPX, RND)\\nKNP = (HKV, CDT)\\nXCM = (MPQ, HKC)\\nKMM = (VXM, XSH)\\nFFR = (QBS, QBS)\\nPLN = (GRH, QXB)\\nJFF = (QTS, SSQ)\\nFVK = (NBM, JCB)\\nTQN = (DKD, HHV)\\nHGX = (MSR, GVB)\\nCSD = (HHK, BFQ)\\nCNJ = (SLH, NXX)\\nTHD = (XXC, BHQ)\\nTNL = (XGH, XKN)\\nMHH = (GGP, MST)\\nKQD = (DNK, QGR)\\nTSD = (VHK, QRH)\\nDSB = (BGV, NFK)\\nCPN = (TPG, LPH)\\nKBV = (LPH, TPG)\\nDTS = (PQR, BXX)\\nPPX = (MPQ, HKC)\\nLLP = (LVH, CJH)\\nPLL = (SJF, TXB)\\nCVS = (VLG, FGC)\\nHHJ = (CSD, DQV)\\nQFQ = (BTT, VBP)\\nFVP = (PPK, MLT)\\nTFV = (QBV, GQG)\\nNPK = (KNQ, RPV)\\nDVQ = (RNV, FPF)\\nDSX = (DGJ, RQB)\\nPBV = (CMP, JSH)\\nSQX = (JBN, RPD)\\nVJC = (SBD, HRK)\\nRLR = (NKD, JNC)\\nFTN = (MFN, VKS)\\nTRB = (RRC, SHR)\\nLVH = (XDB, THD)\\nNXB = (CMR, VDB)\\nJSM = (HQJ, GTD)\\nHHH = (XXF, JJB)\\nRPD = (JDD, RPL)\\nXSF = (QXB, GRH)\\nXPM = (FKG, NVD)\\nBNR = (CCT, NXD)\\nHKN = (KXJ, XXT)\\nKCP = (FFR, XVB)\\nPHB = (QFM, PPD)\\nDLC = (PMP, GBR)\\nGMG = (FKD, LKP)\\nDQC = (HQP, MLM)\\nSMM = (SXL, JQM)\\nSBP = (JRG, XHR)\\nGCR = (FPF, RNV)\\nFNX = (PCC, SFT)\\nPQB = (NKM, CMF)\\nTJM = (NXB, NPP)\\nPPS = (PQN, PHV)\\nBDP = (FDF, MDC)\\nCXN = (XPM, FLL)\\nVDB = (TBM, VQK)\\nSBD = (TDP, JBM)\\nNXQ = (RND, BPX)\\nDRH = (HXN, SKC)\\nVBG = (BCS, GSN)\\nLSJ = (GNX, BBP)\\nVCP = (KMQ, RMC)\\nMVL = (VMG, SCG)\\nJCB = (TPD, CVS)\\nMGG = (DQV, CSD)\\nRXS = (JTT, RNJ)\\nBTF = (PBV, CVM)\\nDFD = (DGJ, RQB)\\nGGJ = (PPC, QBQ)\\nBPK = (VBT, KQD)\\nDKD = (CNN, HSD)\\nSQD = (PHJ, CSL)\\nPQG = (JFM, PJH)\\nRMN = (STN, GTF)\\nRCV = (HRK, SBD)\\nMBK = (GKQ, MJS)\\nCXR = (SDS, LSJ)\\nXSK = (PLV, TQN)\\nFBR = (BFM, GQH)\\nGCD = (KDQ, HQD)\\nPMF = (FGM, JHQ)\\nXLP = (RFT, BMN)\\nNSC = (QFQ, QJL)\\nSHR = (CPK, DDC)\\nDXL = (TQG, KKC)\\nTTH = (XTT, TKZ)\\nCGS = (KSN, QVL)\\nQHF = (HGX, JJT)\\nNFR = (XPS, RDX)\\nCHR = (BBK, FLR)\\nRPL = (LDQ, QPB)\\nGTD = (MRJ, KJH)\\nPNP = (HCD, DXG)\\nGCT = (QKV, SQX)\\nSGG = (CRV, PQB)\\nHNN = (BVB, NMD)\\nHLK = (CLM, DDL)\\nGSN = (VDJ, HNN)\\nKFB = (JRQ, DSF)\\nXXR = (FNS, VDV)\\nFJJ = (XDM, VCC)\\nTCJ = (HJP, XSP)\\nDJK = (RTL, LSC)\\nNJF = (FKL, BNB)\\nBGV = (JSD, GQM)\\nJSH = (VTG, XVX)\\nJBV = (RMD, SKL)\\nRNV = (KBV, CPN)\\nFKB = (KMJ, DKH)\\nCDT = (HVC, DTS)\\nTQT = (TPR, VSF)\\nFNG = (LKK, FLC)\\nRBJ = (GFB, FBF)\\nRTR = (KFB, VHB)\\nBKH = (SGJ, DCM)\\nJRG = (GGJ, KTJ)\\nGTF = (TVC, QHQ)\\nJXG = (KQF, KFF)\\nMBF = (GXS, NQR)\\nGNB = (FLF, MTB)\\nKFK = (FMH, DLS)\\nLBT = (GQG, QBV)\\nCGT = (VSF, TPR)\\nGVA = (CTG, VQH)\\nFNP = (GLL, TPP)\\nRQT = (BXJ, MQX)\\nCDV = (BPK, FXM)\\nJCX = (QVX, LKM)\\nXSH = (SXB, JVV)\\nHKV = (DTS, HVC)\\nMRN = (HRB, LMR)\\nSBX = (CHT, SQD)\\nFRP = (CTG, VQH)\\nHHN = (NPP, NXB)\\nNGG = (SJL, SJL)\\nBJB = (KRL, JNR)\\nGNX = (LTR, LTR)\\nRCR = (KBH, NCC)\\nNDN = (MQM, JFF)\\nVXT = (JGF, RQT)\\nPPG = (BBG, THJ)\\nCDS = (TSD, HVZ)\\nVSJ = (LGC, CTR)\\nNSN = (DNF, TMT)\\nVRJ = (GBR, PMP)\\nCDQ = (VLF, SBP)\\nXDN = (HXN, SKC)\\nLCF = (FTM, CDQ)\\nHCQ = (DCF, RTN)\\nBPF = (KMQ, KMQ)\\nNNC = (SQB, SNM)\\nLQV = (SHQ, FTC)\\nVFH = (NRT, NRT)\\nVHK = (TMN, FNG)\\nLPH = (BMT, NHX)\\nPPD = (GCT, CDD)\\nBXH = (VTD, XTD)\\nLMT = (TLL, DSB)\\nTSM = (TKH, BHK)\\nKMQ = (NCS, NCS)\\nFTV = (RXM, RQJ)\\nXGJ = (MFQ, DPG)\\nRXM = (TSJ, HQG)\\nQBV = (SSH, QTB)\\nTBM = (HHR, FVK)\\nCCR = (MRR, JFS)\\nSKL = (GHG, XVN)\\nHRK = (JBM, TDP)\\nMFQ = (PQG, PDF)\\nDNK = (QJX, BGP)\\nBDL = (GMG, TBB)\\nMQQ = (HKN, KBP)\\nRQR = (THJ, BBG)\\nKFM = (GKN, DFN)\\nXKN = (HTL, PVS)\\nPDF = (JFM, PJH)\\nTTT = (GKQ, MJS)\\nRHG = (SFQ, XMX)\\nXTD = (NGG, NRM)\\nLXV = (SBT, HCQ)\\nHCD = (NPK, SBC)\\nTFT = (RFT, BMN)\\nDDK = (MCS, DFR)\\nDFR = (SBX, TRH)\\nBND = (GHM, BDJ)\\nSFN = (GXB, HND)\\nHQD = (QKD, XRD)\\nRMC = (NCS, LLZ)\\nRQQ = (PBK, KPD)\\nLKP = (PVK, SBM)\\nPQR = (SHC, NDN)\\nDGJ = (TKT, XXV)\\nCHF = (QCG, KMM)\\nSCG = (BDL, DNX)\\nTJG = (HHH, KJG)\\nPDV = (FVP, NXF)\\nHGG = (KJG, HHH)\\nVHB = (JRQ, DSF)\\nKBH = (THG, MVT)\\nPVD = (BRM, LSV)\\nMNJ = (HKB, SPH)\\nCJH = (THD, XDB)\\nDCF = (STL, MRN)\\nXLS = (GXS, NQR)\\nSBC = (RPV, KNQ)\\nBTH = (LDX, TSM)\\nCPV = (JXS, BTH)\\nDGR = (XLP, TFT)\\nNFK = (GQM, JSD)\\nVBP = (THN, BDB)\\nRTL = (HQN, XQT)\\nSJL = (FRP, FRP)\\nXPC = (QFM, PPD)\\nFXM = (VBT, KQD)\\nMCK = (FJJ, HKQ)\\nKRM = (DPD, JTB)\\nBNF = (MPN, BDP)\\nSQB = (MHV, FSN)\\nQKV = (JBN, RPD)\\nQBQ = (KQC, NNK)\\nFPF = (CPN, KBV)\\nSPH = (XBH, RXS)\\nPLV = (HHV, DKD)\\nDQV = (BFQ, HHK)\\nNJQ = (LHV, TQC)\\nPXH = (LKM, QVX)\\nTMN = (FLC, LKK)\\nLVF = (FBR, GTB)\\nBCS = (VDJ, HNN)\\nHHR = (JCB, NBM)\\nHHD = (NXD, CCT)\\nFGF = (QHS, NPB)\\nLSC = (XQT, HQN)\\nHQJ = (MRJ, KJH)\\nCHT = (PHJ, CSL)\\nHLH = (DGR, LTS)\\nNRD = (DDP, NSN)\\nJBN = (JDD, RPL)\\nTRT = (KBH, NCC)\\nHHV = (HSD, CNN)\\nDDL = (QCT, KLR)\\nCSV = (MTB, FLF)\\nSLH = (NMF, MRM)\\nTHJ = (VLR, RNP)\\nCTG = (VJC, RCV)\\nMLL = (HVT, TDH)\\nHLV = (BPF, BPF)\\nXJS = (DQC, BJH)\\nRMD = (GHG, XVN)\\nBGP = (GCR, DVQ)\\nRCF = (FNX, XRC)\\nGHM = (XBL, CPV)\\nDLS = (HPT, MNT)\\nBDB = (BJB, QHM)\\nSVN = (BND, NJG)\\nNSV = (HVJ, PNP)\\nVQC = (GNB, CSV)\\nBHR = (PPG, RQR)\\nCCD = (KFF, KQF)\\nSBB = (TBJ, HLK)\\nVVC = (FBR, GTB)\\nSHQ = (VFH, TPL)\\nVMF = (MNJ, LSB)\\nMSV = (XPN, VSJ)\\nTDH = (JJQ, FTN)\\nRXC = (DQJ, VMF)\\nRSP = (MQQ, HNM)\\nSSH = (GLF, RVD)\\nLTS = (TFT, XLP)\\nHTC = (PLV, TQN)\\nGLF = (NSC, DCC)\\nBTT = (THN, BDB)\\nDFN = (RPC, CPJ)\\nNKM = (QMT, FJT)\\nRMP = (LLP, GHD)\\nPRQ = (DLC, VRJ)\\nTBJ = (CLM, DDL)\\nCPJ = (FSM, FQF)\\nLHD = (GSN, BCS)\\nGLL = (RBJ, RBJ)\\nTXT = (FKL, BNB)\\nNCS = (VHR, HCS)\\nGLQ = (JFN, TNL)\\nBMT = (RCF, RQF)\\nJRQ = (HCM, JNP)\\nFXJ = (VXT, BXF)\\nGMR = (LBT, TFV)\\nNMH = (XJS, BCN)\\nRQX = (JSJ, JSJ)\\nVXM = (JVV, SXB)\\nPCH = (SLH, NXX)\\nTXV = (XGJ, RGP)\\nXNB = (FKB, RFH)\\nJPS = (FTV, QNM)\\nJSJ = (TFD, TFD)\\nLLZ = (HCS, VHR)\\nHPN = (QTM, SVX)\\nDPG = (PQG, PDF)\\nNKD = (CTC, CGS)\\nTKZ = (BHR, BGC)\\nHRB = (KFM, LMM)\\nTLL = (NFK, BGV)\\nMPQ = (KDN, DSR)\\nBVB = (RHB, GCD)\\nJFN = (XKN, XGH)\\nQTB = (RVD, GLF)\\nBFQ = (NFR, XDR)\\nLCT = (SDS, LSJ)\\nSQL = (BCN, XJS)\\nLML = (MCS, DFR)\\nNMF = (SFR, NRD)\\nCPK = (BXH, QXK)\\nJHQ = (RFS, BQS)\\nQRH = (FNG, TMN)\\nMLT = (NQV, BTF)\\nBJH = (HQP, MLM)\\nXHC = (TBJ, HLK)\\nVQK = (FVK, HHR)\\nNXD = (LJB, NTS)\\nFSM = (NNC, XBB)\\nKHG = (GTC, RPG)\\nRTX = (BKH, VJF)\\nHSD = (PXH, JCX)\\nPND = (JTB, DPD)\\nCRV = (NKM, CMF)\\nFMH = (HPT, MNT)\\nBPX = (QPQ, RTR)\\nTHN = (BJB, QHM)\\nXBH = (JTT, RNJ)\\nGVJ = (LTS, DGR)\\nKRL = (DFB, NSV)\\nXPS = (DFD, DSX)\\nTST = (GTM, FCD)\\nGKQ = (PDV, NQK)\\nHKC = (KDN, DSR)\\nDQH = (VBR, JLN)\\nGJF = (JFN, TNL)\\nQBS = (CHF, CHF)\\nHTL = (NXP, LGP)\\nMCS = (TRH, SBX)\\nRKR = (BRM, LSV)\\nVBR = (MBF, XLS)\\nFKD = (SBM, PVK)\\nFXF = (TVX, TCJ)\\nFBF = (KRM, PND)\\nQJL = (BTT, VBP)\\nQJX = (GCR, DVQ)\\nNGC = (FMH, DLS)\\nTPG = (BMT, NHX)\\nGTM = (HTC, XSK)\\nCTR = (KFQ, RQQ)\\nNQR = (HHD, BNR)\\nXGH = (PVS, HTL)\\nLKM = (VJK, PLL)\\nSHN = (JPM, PMF)\\nLMM = (DFN, GKN)\\nDDV = (SBB, XHC)\\nGQG = (QTB, SSH)\\nDDP = (DNF, TMT)\\nCSL = (HRH, LCF)\\nLLB = (VXT, BXF)\\nNPP = (VDB, CMR)\\nHKJ = (RHG, PNM)\\nQVL = (HGN, MCK)\\nTVV = (JBV, QKC)\\nMVT = (SXP, PTL)\\nVBT = (DNK, QGR)\\nXRD = (QFG, FXF)\\nGTB = (BFM, GQH)\\nJNP = (XPC, PHB)\\nKTC = (MDH, MCP)\\nQVX = (PLL, VJK)\\nQFN = (TRB, NVQ)\\nVLR = (HQS, MHH)\\nBDT = (SQC, KNP)\\nJCP = (TDH, HVT)\\nKKC = (GXX, LDD)\\nBDJ = (CPV, XBL)\\nGRH = (SHN, HRR)\\nGXB = (RBC, BTC)\\nMNF = (CHF, JLZ)\\nFGM = (RFS, BQS)\\nRVJ = (SXL, JQM)\\nFXG = (NGC, KFK)\\nHND = (RBC, BTC)\\nNXT = (XHC, SBB)\\nFKG = (KTC, TGT)\\nMQX = (QMR, TVP)\\nJJT = (GVB, MSR)\\nMHV = (SGG, NXL)\\nKJG = (JJB, XXF)\\nSBT = (DCF, RTN)\\nTPR = (QFN, HTG)\\nBNB = (XGV, MRQ)\\nXXT = (VBG, LHD)\\nPKP = (LLP, GHD)\\nHCS = (GLQ, GJF)\\nTKT = (XSF, PLN)\\nHRR = (PMF, JPM)\\nBHQ = (CGT, TQT)\\nFKL = (XGV, MRQ)\\nHRH = (FTM, CDQ)\\nQPB = (NXT, DDV)\\nXDJ = (SHQ, FTC)\\nPTT = (GTD, HQJ)\\nMDC = (KGV, GSV)\\nKXJ = (VBG, LHD)\\nFLF = (NJQ, MFB)\\nFTM = (VLF, SBP)\\nQCT = (FFV, MXB)\\nHTG = (TRB, NVQ)\\nTKH = (JCP, MLL)\\nXXC = (CGT, TQT)\\nMFN = (TTJ, KCP)\\nHQS = (MST, GGP)\\nGKN = (CPJ, RPC)\\nRQB = (XXV, TKT)\\nVKS = (TTJ, KCP)\\nQMR = (RLR, MQN)\\nXTT = (BGC, BHR)\\nMRJ = (JKQ, CCR)\\nSKC = (SMM, RVJ)\\nPVS = (LGP, NXP)\\nGXS = (BNR, HHD)\\nGVB = (GSG, CTH)\\nFQM = (LVF, VVC)\\nCMP = (XVX, VTG)\\nNVA = (VHK, QRH)\\nCCT = (NTS, LJB)\\nKJZ = (VQH, CTG)\\nSTN = (TVC, QHQ)\\nHQP = (TVM, NBF)\\nDDC = (BXH, QXK)\\nQGR = (QJX, BGP)\\nGHD = (CJH, LVH)\\nMTB = (MFB, NJQ)\\nSSQ = (DRH, XDN)\\nQND = (FLR, BBK)\\nLGP = (CNJ, PCH)\\nRPG = (JSM, PTT)\\nXXF = (CDH, TXV)\\nXDM = (SRV, GMR)\\nVLG = (JPG, VJM)\\nNJG = (BDJ, GHM)\\nVCF = (GTC, RPG)\\nDSR = (QBJ, JPS)\\nDNF = (SLD, RSP)\\nMSR = (GSG, CTH)\\nBBG = (VLR, RNP)\\nXXV = (PLN, XSF)\\nMLJ = (VRJ, DLC)\\nMFB = (LHV, TQC)\\nQPQ = (KFB, VHB)\\nDCM = (CDV, BCH)\\nNRM = (SJL, VDX)\\nJNC = (CTC, CGS)\\nXQT = (TXT, NJF)\\nFLR = (NMH, SQL)\\nBQS = (DDK, LML)\\nBTC = (FVH, CXN)\\nQHM = (KRL, JNR)\\nRFT = (HLV, NMQ)\\nKLR = (FFV, MXB)\\nSHC = (MQM, JFF)\\nLNK = (VMG, SCG)\\nQCG = (VXM, XSH)\\nVMG = (DNX, BDL)'"
      ]
     },
     "execution_count": 71,
     "metadata": {},
     "output_type": "execute_result"
    }
   ],
   "source": [
    "# path = 'example.txt'\n",
    "# path = 'example2.txt'\n",
    "path = 'input.txt'\n",
    "\n",
    "with open(path, 'r') as f:\n",
    "    text = f.read()\n",
    "\n",
    "text"
   ]
  },
  {
   "cell_type": "code",
   "execution_count": null,
   "metadata": {},
   "outputs": [],
   "source": [
    "# LLR\n",
    "\n",
    "# AAA = (BBB, BBB)\n",
    "# BBB = (AAA, ZZZ)\n",
    "# ZZZ = (ZZZ, ZZZ)\n",
    "\n",
    "import re\n",
    "\n",
    "\n",
    "\n",
    "def find_node(node_name, text):\n",
    "    pattern = f'^{node_name}\\s=\\s\\((.+),\\s(.+)\\)'\n",
    "    match = re.search(pattern, text, re.MULTILINE)\n",
    "    return [match.groups()[0], match.groups()[1]]\n",
    "\n",
    "def parse_moves(line):\n",
    "    moves = []\n",
    "    mapping = {'L':0, \n",
    "               'R':1}\n",
    "    for char in line:\n",
    "        moves.append(mapping[char])\n",
    "        \n",
    "    return moves\n",
    "\n",
    "moves_line, network_text = text.split('\\n', 1)\n",
    "moves = parse_moves(moves_line)\n",
    "node = 'AAA'\n",
    "counter = 0\n",
    "i = 0\n",
    "while node != 'ZZZ':\n",
    "    move = moves[i%len(moves)]\n",
    "    next_nodes = find_node(node, network_text)\n",
    "    node = next_nodes[move]\n",
    "    i += 1\n",
    "    counter += 1\n",
    "\n",
    "counter\n",
    "# find_node('BBB', network_text)"
   ]
  },
  {
   "cell_type": "code",
   "execution_count": 82,
   "metadata": {},
   "outputs": [
    {
     "data": {
      "text/plain": [
       "18024643846273"
      ]
     },
     "execution_count": 82,
     "metadata": {},
     "output_type": "execute_result"
    }
   ],
   "source": [
    "# LR\n",
    "\n",
    "# 11A = (11B, XXX)\n",
    "# 11B = (XXX, 11Z)\n",
    "# 11Z = (11B, XXX)\n",
    "# 22A = (22B, XXX)\n",
    "# 22B = (22C, 22C)\n",
    "# 22C = (22Z, 22Z)\n",
    "# 22Z = (22B, 22B)\n",
    "# XXX = (XXX, XXX)\n",
    "\n",
    "import re\n",
    "import math\n",
    "\n",
    "def parse_network(text):\n",
    "    pattern = f'^(...)\\s=\\s\\((.+),\\s(.+)\\)'\n",
    "    matches = re.findall(pattern, text, re.MULTILINE)\n",
    "    network = { m[0]: [m[1], m[2]] for m in matches}\n",
    "    return network\n",
    "\n",
    "def parse_moves(line):\n",
    "    mapping = {'L':0, 'R':1}\n",
    "    return [mapping[char] for char in line]\n",
    "\n",
    "def find_starting_nodes(text):\n",
    "    pattern = r'^..A'\n",
    "    matches = re.findall(pattern, text, re.MULTILINE)\n",
    "    return matches\n",
    "\n",
    "def count_steps(moves, network, start_nodes):\n",
    "    steps = []\n",
    "    for start_node in start_nodes:\n",
    "        i = 0\n",
    "        current_node = start_node\n",
    "        while current_node[2] != 'Z':\n",
    "            move = moves[i%len(moves)]\n",
    "            current_node = network[current_node][move]\n",
    "            i += 1\n",
    "        steps.append(i)\n",
    "    return math.lcm(*steps)\n",
    "   \n",
    "\n",
    "moves_line, network_text = text.split('\\n', 1)\n",
    "moves = parse_moves(moves_line)\n",
    "network = parse_network(network_text)\n",
    "starting_nodes = find_starting_nodes(network_text)\n",
    "steps = count_steps(moves, network, starting_nodes)\n",
    "steps"
   ]
  }
 ],
 "metadata": {
  "kernelspec": {
   "display_name": "bm25",
   "language": "python",
   "name": "python3"
  },
  "language_info": {
   "codemirror_mode": {
    "name": "ipython",
    "version": 3
   },
   "file_extension": ".py",
   "mimetype": "text/x-python",
   "name": "python",
   "nbconvert_exporter": "python",
   "pygments_lexer": "ipython3",
   "version": "3.9.12"
  }
 },
 "nbformat": 4,
 "nbformat_minor": 2
}
