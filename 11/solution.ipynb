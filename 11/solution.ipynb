{
 "cells": [
  {
   "cell_type": "code",
   "execution_count": 59,
   "metadata": {},
   "outputs": [
    {
     "data": {
      "text/plain": [
       "'\\n...#......\\n.......#..\\n#.........\\n..........\\n......#...\\n.#........\\n.........#\\n..........\\n.......#..\\n#...#.....\\n\\n....1........\\n.........2...\\n3............\\n.............\\n.............\\n........4....\\n.5...........\\n.##.........6\\n..##.........\\n...##........\\n....##...7...\\n8....9.......\\n'"
      ]
     },
     "execution_count": 59,
     "metadata": {},
     "output_type": "execute_result"
    }
   ],
   "source": [
    "# path = 'example.txt'\n",
    "path = 'input.txt'\n",
    "\n",
    "with open(path, 'r') as f:\n",
    "    lines = f.readlines()\n",
    "\n",
    "'''\n",
    "...#......\n",
    ".......#..\n",
    "#.........\n",
    "..........\n",
    "......#...\n",
    ".#........\n",
    ".........#\n",
    "..........\n",
    ".......#..\n",
    "#...#.....\n",
    "\n",
    "....1........\n",
    ".........2...\n",
    "3............\n",
    ".............\n",
    ".............\n",
    "........4....\n",
    ".5...........\n",
    ".##.........6\n",
    "..##.........\n",
    "...##........\n",
    "....##...7...\n",
    "8....9.......\n",
    "'''"
   ]
  },
  {
   "cell_type": "code",
   "execution_count": 60,
   "metadata": {},
   "outputs": [
    {
     "name": "stdout",
     "output_type": "stream",
     "text": [
      "9274989.0\n"
     ]
    }
   ],
   "source": [
    "# PART 1\n",
    "import itertools\n",
    "import math\n",
    "import re\n",
    "import numpy as np\n",
    "\n",
    "def parse_image(lines):\n",
    "    galaxies = []\n",
    "    \n",
    "    x_len = len(lines[0].rstrip('\\n'))\n",
    "    y_len = len(lines)\n",
    "    \n",
    "    double_x = np.ones(x_len)\n",
    "    double_y = np.ones(y_len)\n",
    "    \n",
    "    \n",
    "    for index in np.ndindex((y_len, x_len)):\n",
    "        x = index[0]\n",
    "        y = index[1] \n",
    "        if lines[x][y] == '#':\n",
    "            galaxies.append(index)\n",
    "            double_x[y] = 0\n",
    "            double_y[x] = 0\n",
    "        \n",
    "    return galaxies, double_x, double_y\n",
    "        \n",
    "\n",
    "\n",
    "\n",
    "def calculate_distance(galaxy1, galaxy2, double_x, double_y):\n",
    "    x_1, y_1 = galaxy1[1], galaxy1[0]\n",
    "    x_2, y_2 = galaxy2[1], galaxy2[0]\n",
    "    \n",
    "    x_distance = abs(x_2-x_1)\n",
    "    y_distance = abs(y_2-y_1)\n",
    "    \n",
    "    \n",
    "    double_x_count = np.sum(double_x[x_1:x_2: 1 if x_1 < x_2 else -1])\n",
    "    double_y_count = np.sum(double_y[y_1:y_2: 1 if y_1 < y_2 else -1])\n",
    "    \n",
    "    return x_distance + y_distance + double_x_count + double_y_count\n",
    "    \n",
    "    \n",
    "distances = []\n",
    "galaxies, double_x, double_y = parse_image(lines)\n",
    "for g1, g2 in itertools.combinations(galaxies, 2):\n",
    "    distance = calculate_distance(g1, g2, double_x, double_y)\n",
    "    distances.append(distance)\n",
    "\n",
    "# print(distances)\n",
    "print(sum(distances))\n",
    "\n",
    "# print(calculate_distance(galaxies[5-1], galaxies[9-1], double_x, double_y))\n",
    "# print(calculate_distance(galaxies[1-1], galaxies[7-1], double_x, double_y))\n",
    "# print(calculate_distance(galaxies[3-1], galaxies[6-1], double_x, double_y))\n",
    "# print(calculate_distance(galaxies[8-1], galaxies[9-1], double_x, double_y))\n"
   ]
  },
  {
   "cell_type": "code",
   "execution_count": 61,
   "metadata": {},
   "outputs": [
    {
     "name": "stdout",
     "output_type": "stream",
     "text": [
      "357134560737.0\n"
     ]
    }
   ],
   "source": [
    "# PART 1\n",
    "import itertools\n",
    "import math\n",
    "import re\n",
    "import numpy as np\n",
    "\n",
    "def parse_image(lines):\n",
    "    galaxies = []\n",
    "    \n",
    "    x_len = len(lines[0].rstrip('\\n'))\n",
    "    y_len = len(lines)\n",
    "    \n",
    "    double_x = np.ones(x_len)\n",
    "    double_y = np.ones(y_len)\n",
    "    \n",
    "    \n",
    "    for index in np.ndindex((y_len, x_len)):\n",
    "        x = index[0]\n",
    "        y = index[1] \n",
    "        if lines[x][y] == '#':\n",
    "            galaxies.append(index)\n",
    "            double_x[y] = 0\n",
    "            double_y[x] = 0\n",
    "        \n",
    "    return galaxies, double_x, double_y\n",
    "        \n",
    "\n",
    "\n",
    "\n",
    "def calculate_distance(galaxy1, galaxy2, double_x, double_y):\n",
    "    x_1, y_1 = galaxy1[1], galaxy1[0]\n",
    "    x_2, y_2 = galaxy2[1], galaxy2[0]\n",
    "    \n",
    "    x_distance = abs(x_2-x_1)\n",
    "    y_distance = abs(y_2-y_1)\n",
    "    \n",
    "    larger_value = 10**6\n",
    "    \n",
    "    double_x_count = np.sum(double_x[x_1:x_2: 1 if x_1 < x_2 else -1])\n",
    "    double_y_count = np.sum(double_y[y_1:y_2: 1 if y_1 < y_2 else -1])\n",
    "    \n",
    "    return x_distance + y_distance + double_x_count*larger_value + double_y_count*larger_value - double_x_count - double_y_count\n",
    "    \n",
    "    \n",
    "distances = []\n",
    "galaxies, double_x, double_y = parse_image(lines)\n",
    "for g1, g2 in itertools.combinations(galaxies, 2):\n",
    "    distance = calculate_distance(g1, g2, double_x, double_y)\n",
    "    distances.append(distance)\n",
    "\n",
    "# print(distances)\n",
    "print(sum(distances))\n",
    "\n",
    "# print(calculate_distance(galaxies[5-1], galaxies[9-1], double_x, double_y))\n",
    "# print(calculate_distance(galaxies[1-1], galaxies[7-1], double_x, double_y))\n",
    "# print(calculate_distance(galaxies[3-1], galaxies[6-1], double_x, double_y))\n",
    "# print(calculate_distance(galaxies[8-1], galaxies[9-1], double_x, double_y))\n"
   ]
  }
 ],
 "metadata": {
  "kernelspec": {
   "display_name": "bm25",
   "language": "python",
   "name": "python3"
  },
  "language_info": {
   "codemirror_mode": {
    "name": "ipython",
    "version": 3
   },
   "file_extension": ".py",
   "mimetype": "text/x-python",
   "name": "python",
   "nbconvert_exporter": "python",
   "pygments_lexer": "ipython3",
   "version": "3.9.12"
  }
 },
 "nbformat": 4,
 "nbformat_minor": 2
}
