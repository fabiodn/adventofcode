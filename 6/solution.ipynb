{
 "cells": [
  {
   "cell_type": "code",
   "execution_count": 25,
   "metadata": {},
   "outputs": [
    {
     "name": "stdout",
     "output_type": "stream",
     "text": [
      "['Time:        58     81     96     76\\n', 'Distance:   434   1041   2219   1218']\n"
     ]
    }
   ],
   "source": [
    "# path = 'example.txt'\n",
    "path = 'input.txt'\n",
    "\n",
    "with open(path, 'r') as f:\n",
    "    text = f.readlines()\n",
    "print(text)"
   ]
  },
  {
   "cell_type": "code",
   "execution_count": 17,
   "metadata": {},
   "outputs": [
    {
     "name": "stdout",
     "output_type": "stream",
     "text": [
      "58 434\n",
      "81 1041\n",
      "96 2219\n",
      "76 1218\n",
      "[41, 48, 19, 31]\n"
     ]
    },
    {
     "data": {
      "text/plain": [
       "1159152"
      ]
     },
     "execution_count": 17,
     "metadata": {},
     "output_type": "execute_result"
    }
   ],
   "source": [
    "# PART 1\n",
    "# Time:      7  15   30\n",
    "# Distance:  9  40  200\n",
    "\n",
    "import math\n",
    "import re\n",
    "\n",
    "def parse(lines):\n",
    "    pattern = r'(\\d+\\s*)'\n",
    "    \n",
    "    time_matches = re.findall(pattern=pattern, string=lines[0])\n",
    "    distance_matches = re.findall(pattern=pattern, string=lines[1])\n",
    "\n",
    "    times = [int(t) for t in time_matches]\n",
    "    distances = [int(d) for d in distance_matches]\n",
    "\n",
    "    return times, distances\n",
    "\n",
    "\n",
    "def calculate_total_winnings(hands):\n",
    "    total = 0\n",
    "    \n",
    "    hands.sort(key=lambda h: h[3], reverse=True)\n",
    "    \n",
    "    max_rank = len(hands)\n",
    "    for i, h in enumerate(hands):\n",
    "        total += h[2]*(max_rank-i)\n",
    "    \n",
    "    return total\n",
    "\n",
    "times, distances = parse(text)\n",
    "ways_to_win = []\n",
    "for time, distance in zip(times, distances):\n",
    "    print(time, distance)\n",
    "\n",
    "    for i in range(1, time-1):\n",
    "        current_velocity = i\n",
    "        current_time = time - i\n",
    "        current_distance = current_velocity * current_time\n",
    "        if current_distance>distance:\n",
    "            break\n",
    "    for j in range(time-1, i, -1):\n",
    "        current_velocity = j\n",
    "        current_time = time - j\n",
    "        current_distance = current_velocity * current_time\n",
    "        if current_distance>distance:\n",
    "            break  \n",
    "    ways_to_win.append(j-i+1)\n",
    "\n",
    "print(ways_to_win)\n",
    "math.prod(ways_to_win)    \n",
    "\n",
    "\n"
   ]
  },
  {
   "cell_type": "code",
   "execution_count": 26,
   "metadata": {},
   "outputs": [
    {
     "name": "stdout",
     "output_type": "stream",
     "text": [
      "58819676 434104122191218\n",
      "41513103\n"
     ]
    }
   ],
   "source": [
    "# PART 1\n",
    "# Time:      7  15   30\n",
    "# Distance:  9  40  200\n",
    "\n",
    "import math\n",
    "import re\n",
    "\n",
    "def parse(lines):\n",
    "    pattern = r'(\\d+)\\s*'\n",
    "    \n",
    "    time_matches = re.findall(pattern=pattern, string=lines[0])\n",
    "    distance_matches = re.findall(pattern=pattern, string=lines[1])\n",
    "\n",
    "    time = int(''.join(time_matches))\n",
    "    distance = int(''.join(distance_matches))\n",
    "\n",
    "    return time, distance\n",
    "\n",
    "\n",
    "\n",
    "time, distance = parse(text)\n",
    "print(time, distance)\n",
    "\n",
    "ways_to_win = []\n",
    "\n",
    "for i in range(1, time-1):\n",
    "    current_velocity = i\n",
    "    current_time = time - i\n",
    "    current_distance = current_velocity * current_time\n",
    "    if current_distance>distance:\n",
    "        break\n",
    "for j in range(time-1, i, -1):\n",
    "    current_velocity = j\n",
    "    current_time = time - j\n",
    "    current_distance = current_velocity * current_time\n",
    "    if current_distance>distance:\n",
    "        break  \n",
    "ways_to_win = j-i+1\n",
    "\n",
    "print(ways_to_win)\n"
   ]
  }
 ],
 "metadata": {
  "kernelspec": {
   "display_name": "bm25",
   "language": "python",
   "name": "python3"
  },
  "language_info": {
   "codemirror_mode": {
    "name": "ipython",
    "version": 3
   },
   "file_extension": ".py",
   "mimetype": "text/x-python",
   "name": "python",
   "nbconvert_exporter": "python",
   "pygments_lexer": "ipython3",
   "version": "3.9.12"
  }
 },
 "nbformat": 4,
 "nbformat_minor": 2
}
