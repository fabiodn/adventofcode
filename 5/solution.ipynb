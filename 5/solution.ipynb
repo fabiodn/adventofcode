{
 "cells": [
  {
   "cell_type": "code",
   "execution_count": 3,
   "metadata": {},
   "outputs": [],
   "source": [
    "# {'seed-to-soil': [[50, 98, 2], [52, 50, 48]],\n",
    "#  'soil-to-fertilizer': [[0, 15, 37], [37, 52, 2], [39, 0, 15]],\n",
    "#  'fertilizer-to-water': [[49, 53, 8], [0, 11, 42], [42, 0, 7], [57, 7, 4]],\n",
    "#  'water-to-light': [[88, 18, 7], [18, 25, 70]],\n",
    "#  'light-to-temperature': [[45, 77, 23], [81, 45, 19], [68, 64, 13]],\n",
    "#  'temperature-to-humidity': [[0, 69, 1], [1, 0, 69]],\n",
    "#  'humidity-to-location': [[60, 56, 37], [56, 93, 4]]}\n",
    "\n",
    "\n",
    "# The first line has a destination range start of 50, a source range start of 98, and a range length of 2\n",
    "# destination, source, range"
   ]
  },
  {
   "cell_type": "code",
   "execution_count": 2,
   "metadata": {},
   "outputs": [
    {
     "data": {
      "text/plain": [
       "214922730"
      ]
     },
     "execution_count": 2,
     "metadata": {},
     "output_type": "execute_result"
    }
   ],
   "source": [
    "def read_input(file_path):\n",
    "    with open(file_path, 'r') as file:\n",
    "        return file.readlines()\n",
    "\n",
    "\n",
    "def parse_seeds(line):\n",
    "    # seeds: 79 14 55 13\n",
    "    seeds = [int(n) for n in line.lstrip('seeds: ').split(' ')]\n",
    "    return seeds\n",
    "    \n",
    "def parse_maps(lines):\n",
    "    maps = {}\n",
    "    for l in lines:\n",
    "        if l[0].isalpha():\n",
    "            # seed-to-soil map:\n",
    "            map_name = l.split(' ')[0]\n",
    "            maps[map_name] = []\n",
    "        if l[0].isdigit():\n",
    "            # 50 98 2\n",
    "            numbers = [ int(n) for n in l.rstrip('\\n').split(' ')]\n",
    "            maps[map_name].append(numbers)\n",
    "    return maps\n",
    "\n",
    "def find_locations(seeds, maps):\n",
    "    locations = []\n",
    "    for seed in seeds:\n",
    "        for _, conversions in maps.items():\n",
    "            for destination, source, window in conversions:\n",
    "                if seed >= source and seed <= source+window:\n",
    "                    seed = destination + seed - source\n",
    "                    break\n",
    "        locations.append(seed) \n",
    "    return locations\n",
    "\n",
    "def main():\n",
    "    file_path = 'example.txt'\n",
    "    file_path = 'input.txt'\n",
    "    lines = read_input(file_path)\n",
    "    \n",
    "    seeds = parse_seeds(lines[0])\n",
    "    maps = parse_maps(lines[1:])\n",
    "    \n",
    "    locations = find_locations(seeds, maps)\n",
    "    \n",
    "    return min(locations)\n",
    "\n",
    "main()"
   ]
  },
  {
   "cell_type": "code",
   "execution_count": 4,
   "metadata": {},
   "outputs": [
    {
     "data": {
      "text/plain": [
       "148041808"
      ]
     },
     "execution_count": 4,
     "metadata": {},
     "output_type": "execute_result"
    }
   ],
   "source": [
    "def find_location_ranges(seeds, maps):\n",
    "    current_ranges = [[seeds[i], seeds[i]+ seeds[i+1]] for i in range(0, len(seeds), 2)]\n",
    "    new_ranges = []\n",
    "    for _, conversions in maps.items():\n",
    "        while(current_ranges):\n",
    "            a,b = current_ranges.pop()\n",
    "            \n",
    "            for destination, source, window in conversions:\n",
    "                from_start = source\n",
    "                from_end = source + window\n",
    "                to_mapping = -(source-destination)\n",
    "                \n",
    "                # no overlap\n",
    "                # a b from_start from_end\n",
    "                if b < from_start:\n",
    "                    continue\n",
    "                # no overlap\n",
    "                # from_start from_end a b\n",
    "                if a >= from_end:\n",
    "                    continue\n",
    "                \n",
    "                # contained\n",
    "                # from_start a b from_end\n",
    "                if from_start<=a and b<=from_end:\n",
    "                    new_ranges.append([a+to_mapping, b+to_mapping])\n",
    "                    break\n",
    "                # overlap\n",
    "                # a from_start b from_end\n",
    "                if a<from_start and b<=from_end:\n",
    "                    new_ranges.append([from_start+to_mapping, b+to_mapping])\n",
    "                    current_ranges.append([a, from_start-1])\n",
    "                    break\n",
    "                # overlap\n",
    "                # from_start a from_end b\n",
    "                if from_start<=a and from_end<b:\n",
    "                    new_ranges.append([a+to_mapping, from_end+to_mapping-1])\n",
    "                    current_ranges.append([from_end, b])\n",
    "                    break\n",
    "                # overlap\n",
    "                #  a  from_start from_end b\n",
    "                if a<from_start and from_end<b:\n",
    "                    new_ranges.append([from_start+to_mapping, from_end+to_mapping-1])\n",
    "                    current_ranges.append([a, from_start-1])\n",
    "                    current_ranges.append([from_end, b])\n",
    "                    break\n",
    "                \n",
    "            else:\n",
    "                new_ranges.append([a,b])\n",
    "        current_ranges = new_ranges\n",
    "        new_ranges = []\n",
    "    return current_ranges\n",
    "\n",
    "\n",
    "def main():\n",
    "    file_path = 'example.txt'\n",
    "    file_path = 'input.txt'\n",
    "    lines = read_input(file_path)\n",
    "    \n",
    "    seeds = parse_seeds(lines[0])\n",
    "    maps = parse_maps(lines[1:])\n",
    "    \n",
    "    location_ranges = find_location_ranges(seeds, maps)\n",
    "    \n",
    "    return min([r[0] for r in location_ranges])\n",
    "\n",
    "\n",
    "main()          "
   ]
  }
 ],
 "metadata": {
  "kernelspec": {
   "display_name": "Python 3",
   "language": "python",
   "name": "python3"
  },
  "language_info": {
   "codemirror_mode": {
    "name": "ipython",
    "version": 3
   },
   "file_extension": ".py",
   "mimetype": "text/x-python",
   "name": "python",
   "nbconvert_exporter": "python",
   "pygments_lexer": "ipython3",
   "version": "3.10.11"
  }
 },
 "nbformat": 4,
 "nbformat_minor": 2
}
