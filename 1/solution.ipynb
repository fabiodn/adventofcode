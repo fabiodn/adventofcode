{
 "cells": [
  {
   "cell_type": "code",
   "execution_count": 5,
   "metadata": {},
   "outputs": [],
   "source": [
    "path = \"example2.txt\"\n",
    "path = \"input.txt\"\n",
    "\n",
    "with open(path, \"r\") as f:\n",
    "    text = f.read()\n",
    "\n",
    "# two1nine          -> 29\n",
    "# eightwothree      -> 83\n",
    "# abcone2threexyz   -> 13\n",
    "# xtwone3four\n",
    "# 4nineeightseven2\n",
    "# zoneight234\n",
    "# 7pqrstsixteen"
   ]
  },
  {
   "cell_type": "code",
   "execution_count": 6,
   "metadata": {},
   "outputs": [
    {
     "name": "stdout",
     "output_type": "stream",
     "text": [
      "54770\n"
     ]
    }
   ],
   "source": [
    "# PART 2\n",
    "import re\n",
    "\n",
    "mapping = {\n",
    "    \"one\": 1,\n",
    "    \"two\": 2,\n",
    "    \"three\": 3,\n",
    "    \"four\": 4,\n",
    "    \"five\": 5,\n",
    "    \"six\": 6,\n",
    "    \"seven\": 7,\n",
    "    \"eight\": 8,\n",
    "    \"nine\": 9,\n",
    "}\n",
    "\n",
    "# regex = r\"(\\d).*(\\d)|(\\d)\" PART 1 REGEX\n",
    "regex = r\"(\\d|one|two|three|four|five|six|seven|eight|nine).*(\\d|one|two|three|four|five|six|seven|eight|nine)|(\\d|one|two|three|four|five|six|seven|eight|nine)\"\n",
    "\n",
    "matches = re.finditer(regex, text, re.MULTILINE)\n",
    "\n",
    "sum = 0\n",
    "for matchNum, match in enumerate(matches, start=1):\n",
    "    decimal = match.groups()[0] or match.groups()[2]\n",
    "    unit = match.groups()[1] or match.groups()[2]\n",
    "    \n",
    "    # translate number to digits if needed\n",
    "    decimal = mapping.get(decimal, decimal)\n",
    "    unit = mapping.get(unit, unit)\n",
    "\n",
    "    number = int(decimal) * 10 + int(unit)\n",
    "    sum += number\n",
    "\n",
    "print(sum)"
   ]
  }
 ],
 "metadata": {
  "kernelspec": {
   "display_name": "Python 3",
   "language": "python",
   "name": "python3"
  },
  "language_info": {
   "codemirror_mode": {
    "name": "ipython",
    "version": 3
   },
   "file_extension": ".py",
   "mimetype": "text/x-python",
   "name": "python",
   "nbconvert_exporter": "python",
   "pygments_lexer": "ipython3",
   "version": "3.10.11"
  },
  "orig_nbformat": 4
 },
 "nbformat": 4,
 "nbformat_minor": 2
}
