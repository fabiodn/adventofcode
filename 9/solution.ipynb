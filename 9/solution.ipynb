{
 "cells": [
  {
   "cell_type": "code",
   "execution_count": 15,
   "metadata": {},
   "outputs": [],
   "source": [
    "path = 'example.txt'\n",
    "path = 'input.txt'\n",
    "\n",
    "with open(path, 'r') as f:\n",
    "    lines = f.readlines()"
   ]
  },
  {
   "cell_type": "code",
   "execution_count": 16,
   "metadata": {},
   "outputs": [
    {
     "data": {
      "text/plain": [
       "1681758908"
      ]
     },
     "execution_count": 16,
     "metadata": {},
     "output_type": "execute_result"
    }
   ],
   "source": [
    "# 0 3 6 9 12 15\n",
    "# 1 3 6 10 15 21\n",
    "# 10 13 16 21 30 45\n",
    "\n",
    "\n",
    "def generate_difference_sequence(value_matrix, index, current_level):\n",
    "    current_value = value_matrix[current_level][index]\n",
    "    next_value = value_matrix[current_level][index+1]\n",
    "\n",
    "    difference = next_value - current_value\n",
    "    value_matrix[current_level+1][index] = difference\n",
    "\n",
    "    if index != 0 and not all(n == 0 for n in value_matrix[current_level+1]):\n",
    "        generate_difference_sequence(value_matrix, index-1, current_level+1)\n",
    "\n",
    "\n",
    "def find_next_value(value_matrix):\n",
    "    next_value = 0\n",
    "    for level in range(len(value_matrix)-2, -1, -1):\n",
    "        index = len(value_matrix)-level-1\n",
    "        next_value = value_matrix[level][index]+next_value\n",
    "    return next_value\n",
    "\n",
    "\n",
    "def init_matrix(history):\n",
    "    # Initialize matrix with history as first line and zeros for rest of the matrix\n",
    "    value_matrix = [[0 for _ in range(len(history))]\n",
    "                        for _ in range(len(history))]\n",
    "    value_matrix[0] = history\n",
    "    \n",
    "    return value_matrix\n",
    "\n",
    "def sum_next_values_from_lines(lines):\n",
    "    next_values = []\n",
    "\n",
    "    for line in lines:\n",
    "        history = [int(n) for n in line.split(' ')]\n",
    "        value_matrix = init_matrix(history)\n",
    "\n",
    "        for index in range(0, len(value_matrix)-1):\n",
    "            generate_difference_sequence(value_matrix, index, current_level=0)\n",
    "\n",
    "        next_value = find_next_value(value_matrix)\n",
    "        next_values.append(next_value)\n",
    "\n",
    "    return sum(next_values)\n",
    "\n",
    "\n",
    "sum_next_values_from_lines(lines)"
   ]
  },
  {
   "cell_type": "code",
   "execution_count": 17,
   "metadata": {},
   "outputs": [
    {
     "data": {
      "text/plain": [
       "803"
      ]
     },
     "execution_count": 17,
     "metadata": {},
     "output_type": "execute_result"
    }
   ],
   "source": [
    "# 0 3 6 9 12 15\n",
    "# 1 3 6 10 15 21\n",
    "# 10 13 16 21 30 45\n",
    "\n",
    "\n",
    "def find_previous_value(value_matrix):\n",
    "    new_value = 0\n",
    "    for level in range(len(value_matrix)-2, -1, -1):\n",
    "        new_value = value_matrix[level][0] - new_value\n",
    "\n",
    "    return new_value\n",
    "\n",
    "\n",
    "def sum_previous_values_from_lines(lines):\n",
    "    next_values = []\n",
    "\n",
    "    for line in lines:\n",
    "        history = [int(n) for n in line.split(' ')]\n",
    "        value_matrix = init_matrix(history)\n",
    "\n",
    "        for index in range(0, len(value_matrix)-1):\n",
    "            generate_difference_sequence(value_matrix, index, current_level=0)\n",
    "\n",
    "        next_value = find_previous_value(value_matrix)\n",
    "        next_values.append(next_value)\n",
    "\n",
    "    return sum(next_values)\n",
    "\n",
    "\n",
    "sum_previous_values_from_lines(lines)"
   ]
  },
  {
   "cell_type": "code",
   "execution_count": null,
   "metadata": {},
   "outputs": [],
   "source": []
  }
 ],
 "metadata": {
  "kernelspec": {
   "display_name": "bm25",
   "language": "python",
   "name": "python3"
  },
  "language_info": {
   "codemirror_mode": {
    "name": "ipython",
    "version": 3
   },
   "file_extension": ".py",
   "mimetype": "text/x-python",
   "name": "python",
   "nbconvert_exporter": "python",
   "pygments_lexer": "ipython3",
   "version": "3.9.12"
  }
 },
 "nbformat": 4,
 "nbformat_minor": 2
}
